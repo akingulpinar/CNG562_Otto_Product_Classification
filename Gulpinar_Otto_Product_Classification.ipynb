{
  "nbformat": 4,
  "nbformat_minor": 0,
  "metadata": {
    "colab": {
      "name": "Gulpinar_Otto_Product_Classification.ipynb",
      "version": "0.3.2",
      "provenance": [],
      "collapsed_sections": [],
      "include_colab_link": true
    },
    "kernelspec": {
      "name": "python3",
      "display_name": "Python 3"
    },
    "accelerator": "GPU"
  },
  "cells": [
    {
      "cell_type": "markdown",
      "metadata": {
        "id": "view-in-github",
        "colab_type": "text"
      },
      "source": [
        "<a href=\"https://colab.research.google.com/github/akingulpinar/CNG562_Otto_Product_Classification/blob/master/Gulpinar_Otto_Product_Classification.ipynb\" target=\"_parent\"><img src=\"https://colab.research.google.com/assets/colab-badge.svg\" alt=\"Open In Colab\"/></a>"
      ]
    },
    {
      "cell_type": "code",
      "metadata": {
        "id": "jQLq5GTP_8bW",
        "colab_type": "code",
        "colab": {}
      },
      "source": [
        "import numpy as np\n",
        "import matplotlib.pyplot as plt \n",
        "import pandas as pd \n",
        "import os"
      ],
      "execution_count": 0,
      "outputs": []
    },
    {
      "cell_type": "code",
      "metadata": {
        "id": "I_fvI7noASQ6",
        "colab_type": "code",
        "colab": {}
      },
      "source": [
        "!pip install -U -q kaggle\n",
        "!mkdir -p ~/.kaggle \n",
        "\n",
        "import json\n",
        "token = {\"username\":\"akingulpinar\",\"key\":\"766a7554ab5f8eed8f08cdd12ea6e636\"}\n",
        "!mkdir -p .kaggle/\n",
        "file = open('/content/.kaggle/kaggle.json', 'w+')\n",
        "json.dump(token, file)\n",
        "\n",
        "!cp /content/.kaggle/kaggle.json ~/.kaggle/kaggle.json"
      ],
      "execution_count": 0,
      "outputs": []
    },
    {
      "cell_type": "code",
      "metadata": {
        "id": "IzcNvhR_DGjS",
        "colab_type": "code",
        "colab": {
          "base_uri": "https://localhost:8080/",
          "height": 237
        },
        "outputId": "67863b26-2644-4071-dc08-c6ac3367800d"
      },
      "source": [
        "!kaggle competitions download -c otto-group-product-classification-challenge\n",
        "!unzip train.csv.zip"
      ],
      "execution_count": 7,
      "outputs": [
        {
          "output_type": "stream",
          "text": [
            "Warning: Your Kaggle API key is readable by other users on this system! To fix this, you can run 'chmod 600 /root/.kaggle/kaggle.json'\n",
            "Downloading sampleSubmission.csv to /content\n",
            "  0% 0.00/3.34M [00:00<?, ?B/s]\n",
            "100% 3.34M/3.34M [00:00<00:00, 113MB/s]\n",
            "Downloading train.csv.zip to /content\n",
            "  0% 0.00/1.59M [00:00<?, ?B/s]\n",
            "100% 1.59M/1.59M [00:00<00:00, 108MB/s]\n",
            "Downloading test.csv.zip to /content\n",
            "  0% 0.00/3.79M [00:00<?, ?B/s]\n",
            "100% 3.79M/3.79M [00:00<00:00, 125MB/s]\n",
            "Archive:  train.csv.zip\n",
            "  inflating: train.csv               \n"
          ],
          "name": "stdout"
        }
      ]
    },
    {
      "cell_type": "code",
      "metadata": {
        "id": "nJ-E5e6bDPl6",
        "colab_type": "code",
        "colab": {}
      },
      "source": [
        "dataset = pd.read_csv(\"train.csv\")\n",
        "dataset = dataset.drop('id',axis=1)\n",
        "\n",
        "X= pd.get_dummies(dataset.drop('target',axis=1),drop_first=True).iloc[:,:].values\n",
        "Y= dataset.iloc[:,93].values"
      ],
      "execution_count": 0,
      "outputs": []
    },
    {
      "cell_type": "code",
      "metadata": {
        "id": "P6xiEPIIAUEx",
        "colab_type": "code",
        "colab": {}
      },
      "source": [
        "from sklearn.preprocessing import LabelEncoder\n",
        "labelEncoder_Y = LabelEncoder()\n",
        "Y = labelEncoder_Y.fit_transform(Y)"
      ],
      "execution_count": 0,
      "outputs": []
    },
    {
      "cell_type": "code",
      "metadata": {
        "id": "yeuq66_IAWub",
        "colab_type": "code",
        "colab": {
          "base_uri": "https://localhost:8080/",
          "height": 35
        },
        "outputId": "6039a121-661d-464a-f358-e86aae54a67c"
      },
      "source": [
        "from keras.utils import np_utils\n",
        "dummy_y = np_utils.to_categorical(Y)"
      ],
      "execution_count": 10,
      "outputs": [
        {
          "output_type": "stream",
          "text": [
            "Using TensorFlow backend.\n"
          ],
          "name": "stderr"
        }
      ]
    },
    {
      "cell_type": "code",
      "metadata": {
        "id": "0dM-zE0-AYI5",
        "colab_type": "code",
        "colab": {}
      },
      "source": [
        "from sklearn.model_selection import train_test_split\n",
        "X_train, X_test, y_train, y_test = train_test_split(X,dummy_y,test_size=0.20)"
      ],
      "execution_count": 0,
      "outputs": []
    },
    {
      "cell_type": "code",
      "metadata": {
        "id": "QRRMwZY5AZ3i",
        "colab_type": "code",
        "colab": {}
      },
      "source": [
        "from sklearn.preprocessing import StandardScaler\n",
        "sc = StandardScaler()\n",
        "X_train = sc.fit_transform(X_train)\n",
        "X_test = sc.transform(X_test)"
      ],
      "execution_count": 0,
      "outputs": []
    },
    {
      "cell_type": "code",
      "metadata": {
        "id": "-c3mtLJbAbQS",
        "colab_type": "code",
        "colab": {
          "base_uri": "https://localhost:8080/",
          "height": 4039
        },
        "outputId": "6c3c37c2-162e-4798-fc19-f6ac67e70781"
      },
      "source": [
        "#Artificial Neural Networks\n",
        "import keras\n",
        "from keras.models import Sequential\n",
        "from keras.layers import Dense,Dropout\n",
        "\n",
        "def keras_model():\n",
        "    classifier = Sequential()\n",
        "    classifier.add(Dense(51,kernel_initializer='uniform', activation='relu', input_dim=93))\n",
        "    classifier.add(Dense(9,kernel_initializer='uniform', activation='softmax'))\n",
        "    classifier.compile(loss='categorical_crossentropy', optimizer='adam', metrics=['accuracy'])\n",
        "    return classifier\n",
        "\n",
        "classifier = keras_model()\n",
        "print(classifier.summary())\n",
        "\n",
        "history = classifier.fit(X_train, y_train, epochs=100, batch_size=150,validation_split=0.2)\n",
        "y_pred= classifier.predict(X_test)"
      ],
      "execution_count": 13,
      "outputs": [
        {
          "output_type": "stream",
          "text": [
            "WARNING:tensorflow:From /usr/local/lib/python3.6/dist-packages/tensorflow/python/framework/op_def_library.py:263: colocate_with (from tensorflow.python.framework.ops) is deprecated and will be removed in a future version.\n",
            "Instructions for updating:\n",
            "Colocations handled automatically by placer.\n",
            "_________________________________________________________________\n",
            "Layer (type)                 Output Shape              Param #   \n",
            "=================================================================\n",
            "dense_1 (Dense)              (None, 51)                4794      \n",
            "_________________________________________________________________\n",
            "dense_2 (Dense)              (None, 9)                 468       \n",
            "=================================================================\n",
            "Total params: 5,262\n",
            "Trainable params: 5,262\n",
            "Non-trainable params: 0\n",
            "_________________________________________________________________\n",
            "None\n",
            "WARNING:tensorflow:From /usr/local/lib/python3.6/dist-packages/tensorflow/python/ops/math_ops.py:3066: to_int32 (from tensorflow.python.ops.math_ops) is deprecated and will be removed in a future version.\n",
            "Instructions for updating:\n",
            "Use tf.cast instead.\n",
            "Train on 39601 samples, validate on 9901 samples\n",
            "Epoch 1/100\n",
            "39601/39601 [==============================] - 4s 92us/step - loss: 1.0805 - acc: 0.6685 - val_loss: 0.7172 - val_acc: 0.7386\n",
            "Epoch 2/100\n",
            "39601/39601 [==============================] - 1s 21us/step - loss: 0.6713 - acc: 0.7470 - val_loss: 0.6413 - val_acc: 0.7595\n",
            "Epoch 3/100\n",
            "39601/39601 [==============================] - 1s 21us/step - loss: 0.6159 - acc: 0.7635 - val_loss: 0.6076 - val_acc: 0.7679\n",
            "Epoch 4/100\n",
            "39601/39601 [==============================] - 1s 21us/step - loss: 0.5888 - acc: 0.7735 - val_loss: 0.5937 - val_acc: 0.7716\n",
            "Epoch 5/100\n",
            "39601/39601 [==============================] - 1s 20us/step - loss: 0.5725 - acc: 0.7788 - val_loss: 0.5836 - val_acc: 0.7735\n",
            "Epoch 6/100\n",
            "39601/39601 [==============================] - 1s 20us/step - loss: 0.5602 - acc: 0.7832 - val_loss: 0.5753 - val_acc: 0.7784\n",
            "Epoch 7/100\n",
            "39601/39601 [==============================] - 1s 21us/step - loss: 0.5520 - acc: 0.7855 - val_loss: 0.5691 - val_acc: 0.7787\n",
            "Epoch 8/100\n",
            "39601/39601 [==============================] - 1s 21us/step - loss: 0.5425 - acc: 0.7903 - val_loss: 0.5623 - val_acc: 0.7841\n",
            "Epoch 9/100\n",
            "39601/39601 [==============================] - 1s 21us/step - loss: 0.5347 - acc: 0.7928 - val_loss: 0.5597 - val_acc: 0.7842\n",
            "Epoch 10/100\n",
            "39601/39601 [==============================] - 1s 21us/step - loss: 0.5284 - acc: 0.7952 - val_loss: 0.5568 - val_acc: 0.7848\n",
            "Epoch 11/100\n",
            "39601/39601 [==============================] - 1s 21us/step - loss: 0.5245 - acc: 0.7948 - val_loss: 0.5552 - val_acc: 0.7867\n",
            "Epoch 12/100\n",
            "39601/39601 [==============================] - 1s 21us/step - loss: 0.5182 - acc: 0.7996 - val_loss: 0.5531 - val_acc: 0.7873\n",
            "Epoch 13/100\n",
            "39601/39601 [==============================] - 1s 21us/step - loss: 0.5135 - acc: 0.8004 - val_loss: 0.5488 - val_acc: 0.7875\n",
            "Epoch 14/100\n",
            "39601/39601 [==============================] - 1s 20us/step - loss: 0.5074 - acc: 0.8019 - val_loss: 0.5494 - val_acc: 0.7880\n",
            "Epoch 15/100\n",
            "39601/39601 [==============================] - 1s 20us/step - loss: 0.5034 - acc: 0.8034 - val_loss: 0.5497 - val_acc: 0.7890\n",
            "Epoch 16/100\n",
            "39601/39601 [==============================] - 1s 21us/step - loss: 0.5001 - acc: 0.8051 - val_loss: 0.5488 - val_acc: 0.7873\n",
            "Epoch 17/100\n",
            "39601/39601 [==============================] - 1s 20us/step - loss: 0.4953 - acc: 0.8064 - val_loss: 0.5448 - val_acc: 0.7898\n",
            "Epoch 18/100\n",
            "39601/39601 [==============================] - 1s 21us/step - loss: 0.4925 - acc: 0.8069 - val_loss: 0.5461 - val_acc: 0.7888\n",
            "Epoch 19/100\n",
            "39601/39601 [==============================] - 1s 20us/step - loss: 0.4919 - acc: 0.8073 - val_loss: 0.5430 - val_acc: 0.7925\n",
            "Epoch 20/100\n",
            "39601/39601 [==============================] - 1s 21us/step - loss: 0.4854 - acc: 0.8107 - val_loss: 0.5435 - val_acc: 0.7909\n",
            "Epoch 21/100\n",
            "39601/39601 [==============================] - 1s 21us/step - loss: 0.4825 - acc: 0.8111 - val_loss: 0.5442 - val_acc: 0.7927\n",
            "Epoch 22/100\n",
            "39601/39601 [==============================] - 1s 22us/step - loss: 0.4824 - acc: 0.8108 - val_loss: 0.5456 - val_acc: 0.7899\n",
            "Epoch 23/100\n",
            "39601/39601 [==============================] - 1s 21us/step - loss: 0.4785 - acc: 0.8124 - val_loss: 0.5433 - val_acc: 0.7938\n",
            "Epoch 24/100\n",
            "39601/39601 [==============================] - 1s 20us/step - loss: 0.4747 - acc: 0.8138 - val_loss: 0.5423 - val_acc: 0.7930\n",
            "Epoch 25/100\n",
            "39601/39601 [==============================] - 1s 20us/step - loss: 0.4721 - acc: 0.8136 - val_loss: 0.5469 - val_acc: 0.7935\n",
            "Epoch 26/100\n",
            "39601/39601 [==============================] - 1s 20us/step - loss: 0.4701 - acc: 0.8157 - val_loss: 0.5454 - val_acc: 0.7919\n",
            "Epoch 27/100\n",
            "39601/39601 [==============================] - 1s 20us/step - loss: 0.4708 - acc: 0.8149 - val_loss: 0.5452 - val_acc: 0.7940\n",
            "Epoch 28/100\n",
            "39601/39601 [==============================] - 1s 20us/step - loss: 0.4655 - acc: 0.8162 - val_loss: 0.5445 - val_acc: 0.7930\n",
            "Epoch 29/100\n",
            "39601/39601 [==============================] - 1s 20us/step - loss: 0.4646 - acc: 0.8160 - val_loss: 0.5464 - val_acc: 0.7904\n",
            "Epoch 30/100\n",
            "39601/39601 [==============================] - 1s 20us/step - loss: 0.4627 - acc: 0.8196 - val_loss: 0.5467 - val_acc: 0.7924\n",
            "Epoch 31/100\n",
            "39601/39601 [==============================] - 1s 22us/step - loss: 0.4601 - acc: 0.8191 - val_loss: 0.5468 - val_acc: 0.7942\n",
            "Epoch 32/100\n",
            "39601/39601 [==============================] - 1s 22us/step - loss: 0.4633 - acc: 0.8177 - val_loss: 0.5504 - val_acc: 0.7898\n",
            "Epoch 33/100\n",
            "39601/39601 [==============================] - 1s 22us/step - loss: 0.4569 - acc: 0.8206 - val_loss: 0.5485 - val_acc: 0.7924\n",
            "Epoch 34/100\n",
            "39601/39601 [==============================] - 1s 22us/step - loss: 0.4562 - acc: 0.8209 - val_loss: 0.5469 - val_acc: 0.7912\n",
            "Epoch 35/100\n",
            "39601/39601 [==============================] - 1s 23us/step - loss: 0.4536 - acc: 0.8222 - val_loss: 0.5491 - val_acc: 0.7933\n",
            "Epoch 36/100\n",
            "39601/39601 [==============================] - 1s 23us/step - loss: 0.4529 - acc: 0.8221 - val_loss: 0.5514 - val_acc: 0.7888\n",
            "Epoch 37/100\n",
            "39601/39601 [==============================] - 1s 22us/step - loss: 0.4502 - acc: 0.8239 - val_loss: 0.5501 - val_acc: 0.7946\n",
            "Epoch 38/100\n",
            "39601/39601 [==============================] - 1s 22us/step - loss: 0.4488 - acc: 0.8225 - val_loss: 0.5514 - val_acc: 0.7933\n",
            "Epoch 39/100\n",
            "39601/39601 [==============================] - 1s 22us/step - loss: 0.4488 - acc: 0.8238 - val_loss: 0.5521 - val_acc: 0.7919\n",
            "Epoch 40/100\n",
            "39601/39601 [==============================] - 1s 22us/step - loss: 0.4469 - acc: 0.8246 - val_loss: 0.5565 - val_acc: 0.7871\n",
            "Epoch 41/100\n",
            "39601/39601 [==============================] - 1s 23us/step - loss: 0.4450 - acc: 0.8249 - val_loss: 0.5539 - val_acc: 0.7901\n",
            "Epoch 42/100\n",
            "39601/39601 [==============================] - 1s 21us/step - loss: 0.4434 - acc: 0.8256 - val_loss: 0.5591 - val_acc: 0.7874\n",
            "Epoch 43/100\n",
            "39601/39601 [==============================] - 1s 21us/step - loss: 0.4418 - acc: 0.8260 - val_loss: 0.5543 - val_acc: 0.7915\n",
            "Epoch 44/100\n",
            "39601/39601 [==============================] - 1s 21us/step - loss: 0.4425 - acc: 0.8256 - val_loss: 0.5553 - val_acc: 0.7895\n",
            "Epoch 45/100\n",
            "39601/39601 [==============================] - 1s 21us/step - loss: 0.4397 - acc: 0.8268 - val_loss: 0.5604 - val_acc: 0.7872\n",
            "Epoch 46/100\n",
            "39601/39601 [==============================] - 1s 20us/step - loss: 0.4422 - acc: 0.8275 - val_loss: 0.5568 - val_acc: 0.7914\n",
            "Epoch 47/100\n",
            "39601/39601 [==============================] - 1s 20us/step - loss: 0.4375 - acc: 0.8274 - val_loss: 0.5586 - val_acc: 0.7893\n",
            "Epoch 48/100\n",
            "39601/39601 [==============================] - 1s 20us/step - loss: 0.4405 - acc: 0.8270 - val_loss: 0.5572 - val_acc: 0.7923\n",
            "Epoch 49/100\n",
            "39601/39601 [==============================] - 1s 20us/step - loss: 0.4377 - acc: 0.8276 - val_loss: 0.5564 - val_acc: 0.7907\n",
            "Epoch 50/100\n",
            "39601/39601 [==============================] - 1s 20us/step - loss: 0.4334 - acc: 0.8297 - val_loss: 0.5577 - val_acc: 0.7891\n",
            "Epoch 51/100\n",
            "39601/39601 [==============================] - 1s 20us/step - loss: 0.4333 - acc: 0.8284 - val_loss: 0.5604 - val_acc: 0.7911\n",
            "Epoch 52/100\n",
            "39601/39601 [==============================] - 1s 21us/step - loss: 0.4345 - acc: 0.8274 - val_loss: 0.5623 - val_acc: 0.7939\n",
            "Epoch 53/100\n",
            "39601/39601 [==============================] - 1s 20us/step - loss: 0.4328 - acc: 0.8287 - val_loss: 0.5624 - val_acc: 0.7909\n",
            "Epoch 54/100\n",
            "39601/39601 [==============================] - 1s 21us/step - loss: 0.4361 - acc: 0.8267 - val_loss: 0.5610 - val_acc: 0.7891\n",
            "Epoch 55/100\n",
            "39601/39601 [==============================] - 1s 21us/step - loss: 0.4317 - acc: 0.8285 - val_loss: 0.5618 - val_acc: 0.7913\n",
            "Epoch 56/100\n",
            "39601/39601 [==============================] - 1s 21us/step - loss: 0.4281 - acc: 0.8305 - val_loss: 0.5621 - val_acc: 0.7905\n",
            "Epoch 57/100\n",
            "39601/39601 [==============================] - 1s 20us/step - loss: 0.4284 - acc: 0.8311 - val_loss: 0.5630 - val_acc: 0.7901\n",
            "Epoch 58/100\n",
            "39601/39601 [==============================] - 1s 20us/step - loss: 0.4286 - acc: 0.8296 - val_loss: 0.5624 - val_acc: 0.7915\n",
            "Epoch 59/100\n",
            "39601/39601 [==============================] - 1s 20us/step - loss: 0.4261 - acc: 0.8319 - val_loss: 0.5643 - val_acc: 0.7904\n",
            "Epoch 60/100\n",
            "39601/39601 [==============================] - 1s 20us/step - loss: 0.4251 - acc: 0.8325 - val_loss: 0.5652 - val_acc: 0.7907\n",
            "Epoch 61/100\n",
            "39601/39601 [==============================] - 1s 20us/step - loss: 0.4284 - acc: 0.8309 - val_loss: 0.5669 - val_acc: 0.7892\n",
            "Epoch 62/100\n",
            "39601/39601 [==============================] - 1s 20us/step - loss: 0.4250 - acc: 0.8311 - val_loss: 0.5649 - val_acc: 0.7889\n",
            "Epoch 63/100\n",
            "39601/39601 [==============================] - 1s 21us/step - loss: 0.4235 - acc: 0.8326 - val_loss: 0.5665 - val_acc: 0.7895\n",
            "Epoch 64/100\n",
            "39601/39601 [==============================] - 1s 21us/step - loss: 0.4234 - acc: 0.8323 - val_loss: 0.5683 - val_acc: 0.7878\n",
            "Epoch 65/100\n",
            "39601/39601 [==============================] - 1s 21us/step - loss: 0.4254 - acc: 0.8313 - val_loss: 0.5799 - val_acc: 0.7841\n",
            "Epoch 66/100\n",
            "39601/39601 [==============================] - 1s 21us/step - loss: 0.4307 - acc: 0.8305 - val_loss: 0.5699 - val_acc: 0.7893\n",
            "Epoch 67/100\n",
            "39601/39601 [==============================] - 1s 20us/step - loss: 0.4197 - acc: 0.8346 - val_loss: 0.5686 - val_acc: 0.7903\n",
            "Epoch 68/100\n",
            "39601/39601 [==============================] - 1s 20us/step - loss: 0.4194 - acc: 0.8333 - val_loss: 0.5722 - val_acc: 0.7901\n",
            "Epoch 69/100\n",
            "39601/39601 [==============================] - 1s 22us/step - loss: 0.4206 - acc: 0.8340 - val_loss: 0.5732 - val_acc: 0.7902\n",
            "Epoch 70/100\n",
            "39601/39601 [==============================] - 1s 23us/step - loss: 0.4219 - acc: 0.8336 - val_loss: 0.5723 - val_acc: 0.7911\n",
            "Epoch 71/100\n",
            "39601/39601 [==============================] - 1s 23us/step - loss: 0.4182 - acc: 0.8345 - val_loss: 0.5737 - val_acc: 0.7909\n",
            "Epoch 72/100\n",
            "39601/39601 [==============================] - 1s 23us/step - loss: 0.4192 - acc: 0.8331 - val_loss: 0.5753 - val_acc: 0.7897\n",
            "Epoch 73/100\n",
            "39601/39601 [==============================] - 1s 23us/step - loss: 0.4177 - acc: 0.8344 - val_loss: 0.5732 - val_acc: 0.7921\n",
            "Epoch 74/100\n",
            "39601/39601 [==============================] - 1s 23us/step - loss: 0.4163 - acc: 0.8366 - val_loss: 0.5739 - val_acc: 0.7921\n",
            "Epoch 75/100\n",
            "39601/39601 [==============================] - 1s 22us/step - loss: 0.4159 - acc: 0.8343 - val_loss: 0.5782 - val_acc: 0.7893\n",
            "Epoch 76/100\n",
            "39601/39601 [==============================] - 1s 21us/step - loss: 0.4173 - acc: 0.8350 - val_loss: 0.5751 - val_acc: 0.7897\n",
            "Epoch 77/100\n",
            "39601/39601 [==============================] - 1s 20us/step - loss: 0.4144 - acc: 0.8359 - val_loss: 0.5766 - val_acc: 0.7884\n",
            "Epoch 78/100\n",
            "39601/39601 [==============================] - 1s 20us/step - loss: 0.4144 - acc: 0.8369 - val_loss: 0.5785 - val_acc: 0.7878\n",
            "Epoch 79/100\n",
            "39601/39601 [==============================] - 1s 20us/step - loss: 0.4139 - acc: 0.8365 - val_loss: 0.5806 - val_acc: 0.7883\n",
            "Epoch 80/100\n",
            "39601/39601 [==============================] - 1s 20us/step - loss: 0.4136 - acc: 0.8364 - val_loss: 0.5786 - val_acc: 0.7891\n",
            "Epoch 81/100\n",
            "39601/39601 [==============================] - 1s 20us/step - loss: 0.4131 - acc: 0.8368 - val_loss: 0.5839 - val_acc: 0.7871\n",
            "Epoch 82/100\n",
            "39601/39601 [==============================] - 1s 21us/step - loss: 0.4178 - acc: 0.8339 - val_loss: 0.5800 - val_acc: 0.7896\n",
            "Epoch 83/100\n",
            "39601/39601 [==============================] - 1s 20us/step - loss: 0.4124 - acc: 0.8369 - val_loss: 0.5843 - val_acc: 0.7880\n",
            "Epoch 84/100\n",
            "39601/39601 [==============================] - 1s 21us/step - loss: 0.4136 - acc: 0.8380 - val_loss: 0.5923 - val_acc: 0.7826\n",
            "Epoch 85/100\n",
            "39601/39601 [==============================] - 1s 21us/step - loss: 0.4112 - acc: 0.8369 - val_loss: 0.5871 - val_acc: 0.7867\n",
            "Epoch 86/100\n",
            "39601/39601 [==============================] - 1s 21us/step - loss: 0.4114 - acc: 0.8377 - val_loss: 0.5816 - val_acc: 0.7862\n",
            "Epoch 87/100\n",
            "39601/39601 [==============================] - 1s 21us/step - loss: 0.4097 - acc: 0.8374 - val_loss: 0.5873 - val_acc: 0.7864\n",
            "Epoch 88/100\n",
            "39601/39601 [==============================] - 1s 20us/step - loss: 0.4103 - acc: 0.8381 - val_loss: 0.5879 - val_acc: 0.7843\n",
            "Epoch 89/100\n",
            "39601/39601 [==============================] - 1s 20us/step - loss: 0.4094 - acc: 0.8379 - val_loss: 0.5862 - val_acc: 0.7876\n",
            "Epoch 90/100\n",
            "39601/39601 [==============================] - 1s 20us/step - loss: 0.4099 - acc: 0.8381 - val_loss: 0.5902 - val_acc: 0.7884\n",
            "Epoch 91/100\n",
            "39601/39601 [==============================] - 1s 20us/step - loss: 0.4125 - acc: 0.8382 - val_loss: 0.5954 - val_acc: 0.7797\n",
            "Epoch 92/100\n",
            "39601/39601 [==============================] - 1s 20us/step - loss: 0.4121 - acc: 0.8365 - val_loss: 0.5875 - val_acc: 0.7901\n",
            "Epoch 93/100\n",
            "39601/39601 [==============================] - 1s 20us/step - loss: 0.4081 - acc: 0.8387 - val_loss: 0.5867 - val_acc: 0.7881\n",
            "Epoch 94/100\n",
            "39601/39601 [==============================] - 1s 20us/step - loss: 0.4066 - acc: 0.8400 - val_loss: 0.5909 - val_acc: 0.7862\n",
            "Epoch 95/100\n",
            "39601/39601 [==============================] - 1s 20us/step - loss: 0.4078 - acc: 0.8395 - val_loss: 0.5883 - val_acc: 0.7886\n",
            "Epoch 96/100\n",
            "39601/39601 [==============================] - 1s 20us/step - loss: 0.4076 - acc: 0.8404 - val_loss: 0.5976 - val_acc: 0.7783\n",
            "Epoch 97/100\n",
            "39601/39601 [==============================] - 1s 21us/step - loss: 0.4094 - acc: 0.8382 - val_loss: 0.5889 - val_acc: 0.7867\n",
            "Epoch 98/100\n",
            "39601/39601 [==============================] - 1s 21us/step - loss: 0.4054 - acc: 0.8400 - val_loss: 0.5890 - val_acc: 0.7893\n",
            "Epoch 99/100\n",
            "39601/39601 [==============================] - 1s 21us/step - loss: 0.4051 - acc: 0.8408 - val_loss: 0.5912 - val_acc: 0.7872\n",
            "Epoch 100/100\n",
            "39601/39601 [==============================] - 1s 20us/step - loss: 0.4075 - acc: 0.8390 - val_loss: 0.5937 - val_acc: 0.7838\n"
          ],
          "name": "stdout"
        }
      ]
    },
    {
      "cell_type": "code",
      "metadata": {
        "id": "JdICM28TEfHY",
        "colab_type": "code",
        "colab": {
          "base_uri": "https://localhost:8080/",
          "height": 313
        },
        "outputId": "968fdb1c-d763-4248-e0b4-6cec828f11d6"
      },
      "source": [
        "import matplotlib.pyplot as plt\n",
        "import seaborn as sns\n",
        "acc=history.history['acc']  ##getting  accuracy of each epochs\n",
        "epochs_=range(0,100)    \n",
        "plt.plot(epochs_,acc,label='training accuracy')\n",
        "plt.xlabel('no of epochs')\n",
        "plt.ylabel('accuracy')\n",
        "\n",
        "acc_val=history.history['val_acc']  ##getting validation accuracy of each epochs\n",
        "plt.scatter(epochs_,acc_val,label=\"validation accuracy\")\n",
        "plt.title(\"no of epochs vs accuracy\")\n",
        "plt.legend()"
      ],
      "execution_count": 14,
      "outputs": [
        {
          "output_type": "execute_result",
          "data": {
            "text/plain": [
              "<matplotlib.legend.Legend at 0x7f02500a7a20>"
            ]
          },
          "metadata": {
            "tags": []
          },
          "execution_count": 14
        },
        {
          "output_type": "display_data",
          "data": {
            "image/png": "[encoded data removed]",
            "text/plain": [
              "<Figure size 432x288 with 1 Axes>"
            ]
          },
          "metadata": {
            "tags": []
          }
        }
      ]
    },
    {
      "cell_type": "code",
      "metadata": {
        "id": "kUBNHKYKEgb5",
        "colab_type": "code",
        "colab": {
          "base_uri": "https://localhost:8080/",
          "height": 313
        },
        "outputId": "6f6119c8-7548-44fd-9663-feecd284f0bb"
      },
      "source": [
        "acc=history.history['loss']    ##getting  loss of each epochs\n",
        "epochs_=range(0,100)\n",
        "plt.plot(epochs_,acc,label='training loss')\n",
        "plt.xlabel('No of epochs')\n",
        "plt.ylabel('loss')\n",
        "\n",
        "acc_val=history.history['val_loss']  ## getting validation loss of each epochs\n",
        "plt.scatter(epochs_,acc_val,label=\"validation loss\")\n",
        "plt.title('no of epochs vs loss')\n",
        "plt.legend()"
      ],
      "execution_count": 15,
      "outputs": [
        {
          "output_type": "execute_result",
          "data": {
            "text/plain": [
              "<matplotlib.legend.Legend at 0x7f025004e588>"
            ]
          },
          "metadata": {
            "tags": []
          },
          "execution_count": 15
        },
        {
          "output_type": "display_data",
          "data": {
            "image/png": "[encoded data removed]",
            "text/plain": [
              "<Figure size 432x288 with 1 Axes>"
            ]
          },
          "metadata": {
            "tags": []
          }
        }
      ]
    },
    {
      "cell_type": "code",
      "metadata": {
        "id": "iomAvRX3ELDh",
        "colab_type": "code",
        "colab": {}
      },
      "source": [
        "from keras.wrappers.scikit_learn import KerasClassifier\n",
        "estimator = KerasClassifier(build_fn=keras_model, epochs=100, batch_size=500)\n",
        "\n",
        "from sklearn.model_selection import cross_val_score\n",
        "results = cross_val_score(estimator, X, dummy_y, cv=10)\n",
        "\n",
        "print(\"Baseline: %.2f%% (%.2f%%)\" % (results.mean()*100, results.std()*100))"
      ],
      "execution_count": 0,
      "outputs": []
    },
    {
      "cell_type": "code",
      "metadata": {
        "id": "JE6b_GydDtL6",
        "colab_type": "code",
        "colab": {}
      },
      "source": [
        "X_train, X_test, y_train, y_test = train_test_split(X,Y,test_size=0.20)"
      ],
      "execution_count": 0,
      "outputs": []
    },
    {
      "cell_type": "code",
      "metadata": {
        "id": "0x6z_uvsAdzR",
        "colab_type": "code",
        "colab": {}
      },
      "source": [
        "#Support Vector Machines\n",
        "from sklearn.svm import SVC\n",
        "from sklearn.metrics import accuracy_score,confusion_matrix\n",
        "\n",
        "classifierSVM = SVC(kernel=\"rbf\", gamma=\"auto\")\n",
        "classifierSVM.fit(X_train,y_train)\n",
        "y_predictSVM = classifierSVM.predict(X_test)\n",
        "\n",
        "cmSVM =confusion_matrix(y_test,y_predictSVM)\n",
        "accuracy_score(y_test,y_predictSVM)"
      ],
      "execution_count": 0,
      "outputs": []
    },
    {
      "cell_type": "code",
      "metadata": {
        "id": "N_xvOveCAgDx",
        "colab_type": "code",
        "colab": {
          "base_uri": "https://localhost:8080/",
          "height": 35
        },
        "outputId": "569f2415-83b9-4d70-e23b-00d9bd40bfd1"
      },
      "source": [
        "#K-Nearest Neighbors\n",
        "from sklearn.neighbors import KNeighborsClassifier \n",
        "\n",
        "classifierKNN = KNeighborsClassifier(n_neighbors=17, metric=\"minkowski\", p=2)\n",
        "classifierKNN.fit(X_train,y_train)\n",
        "y_predictKNN = classifierKNN.predict(X_test)\n",
        "\n",
        "cmKNN =confusion_matrix(y_test,y_predictKNN)\n",
        "accuracy_score(y_test,y_predictKNN)"
      ],
      "execution_count": 18,
      "outputs": [
        {
          "output_type": "execute_result",
          "data": {
            "text/plain": [
              "0.7727052359405301"
            ]
          },
          "metadata": {
            "tags": []
          },
          "execution_count": 18
        }
      ]
    },
    {
      "cell_type": "code",
      "metadata": {
        "id": "B3ZT0gyBAiVa",
        "colab_type": "code",
        "colab": {
          "base_uri": "https://localhost:8080/",
          "height": 35
        },
        "outputId": "5bdf2347-cab5-42b9-efac-fa11cd0e8855"
      },
      "source": [
        "#MLPClassifier\n",
        "from sklearn.neural_network import MLPClassifier\n",
        "\n",
        "classifier = MLPClassifier(solver= 'lbfgs', hidden_layer_sizes= (30, 10), alpha= 1e-5)\n",
        "classifier.fit(X_train,y_train)\n",
        "y_pred= classifier.predict(X_test)\n",
        "\n",
        "\n",
        "cmSVM =confusion_matrix(y_test,y_pred)\n",
        "accuracy_score(y_test,y_pred)"
      ],
      "execution_count": 19,
      "outputs": [
        {
          "output_type": "execute_result",
          "data": {
            "text/plain": [
              "0.7882999353587589"
            ]
          },
          "metadata": {
            "tags": []
          },
          "execution_count": 19
        }
      ]
    },
    {
      "cell_type": "code",
      "metadata": {
        "id": "vDGKTTfXAkDQ",
        "colab_type": "code",
        "colab": {}
      },
      "source": [
        "#Random Forest Regressor\n",
        "from sklearn.ensemble import RandomForestRegressor\n",
        "\n",
        "regressorRFR = RandomForestRegressor(n_estimators=100,max_depth=2)\n",
        "regressorRFR.fit(X_train,y_train)\n",
        "\n",
        "Y_predRFR = regressorRFR.predict(X_test)"
      ],
      "execution_count": 0,
      "outputs": []
    },
    {
      "cell_type": "code",
      "metadata": {
        "id": "_fIHuOYlA9AB",
        "colab_type": "code",
        "colab": {
          "base_uri": "https://localhost:8080/",
          "height": 35
        },
        "outputId": "0dcca0d2-cc13-4d89-b370-7efda5baad3d"
      },
      "source": [
        "#XGBoost\n",
        "from xgboost import XGBClassifier\n",
        "\n",
        "classifierXGB = XGBClassifier(max_depth=3, n_estimators=1000,learning_rate=0.01,subsample=0.8,colsample_bytree=1, gamma=1)\n",
        "classifierXGB.fit(X_train,y_train)\n",
        "\n",
        "y_predict = classifierXGB.predict(X_test)\n",
        "cmXGB =confusion_matrix(y_test,y_predict)\n",
        "accuracy_score(y_test,y_predict)"
      ],
      "execution_count": 23,
      "outputs": [
        {
          "output_type": "execute_result",
          "data": {
            "text/plain": [
              "0.7756948933419522"
            ]
          },
          "metadata": {
            "tags": []
          },
          "execution_count": 23
        }
      ]
    }
  ]
}