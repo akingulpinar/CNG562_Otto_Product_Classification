{
  "nbformat": 4,
  "nbformat_minor": 0,
  "metadata": {
    "colab": {
      "name": "Gulpinar_Otto_Product_Classification.ipynb",
      "version": "0.3.2",
      "provenance": [],
      "collapsed_sections": [],
      "include_colab_link": true
    },
    "kernelspec": {
      "name": "python3",
      "display_name": "Python 3"
    }
  },
  "cells": [
    {
      "cell_type": "markdown",
      "metadata": {
        "id": "view-in-github",
        "colab_type": "text"
      },
      "source": [
        "<a href=\"https://colab.research.google.com/github/akingulpinar/CNG562_Otto_Product_Classification/blob/master/Gulpinar_Otto_Product_Classification.ipynb\" target=\"_parent\"><img src=\"https://colab.research.google.com/assets/colab-badge.svg\" alt=\"Open In Colab\"/></a>"
      ]
    },
    {
      "cell_type": "code",
      "metadata": {
        "id": "jQLq5GTP_8bW",
        "colab_type": "code",
        "colab": {}
      },
      "source": [
        "import numpy as np\n",
        "import matplotlib.pyplot as plt \n",
        "import pandas as pd \n",
        "import os"
      ],
      "execution_count": 0,
      "outputs": []
    },
    {
      "cell_type": "code",
      "metadata": {
        "id": "I_fvI7noASQ6",
        "colab_type": "code",
        "colab": {}
      },
      "source": [
        "os.chdir(\"C:\\\\Users\\\\admin\\\\Desktop\\\\Akın\\\\CNG562Assignment2\\\\1\\\\\")\n",
        "\"\"\"os.chdir(\"C:\\\\Users\\\\aking\\\\OneDrive - metu.edu.tr\\\\LECTURES\\\\8th Semester\\\\CNG562\\\\Homework2\")\"\"\"\n",
        "\n",
        "dataset = pd.read_csv(\"train.csv\")\n",
        "dataset = dataset.drop('id',axis=1)\n",
        "\n",
        "X= pd.get_dummies(dataset.drop('target',axis=1),drop_first=True).iloc[:,:].values\n",
        "Y= dataset.iloc[:,93].values"
      ],
      "execution_count": 0,
      "outputs": []
    },
    {
      "cell_type": "code",
      "metadata": {
        "id": "P6xiEPIIAUEx",
        "colab_type": "code",
        "colab": {}
      },
      "source": [
        "from sklearn.preprocessing import LabelEncoder\n",
        "labelEncoder_Y = LabelEncoder()\n",
        "Y = labelEncoder_Y.fit_transform(Y)"
      ],
      "execution_count": 0,
      "outputs": []
    },
    {
      "cell_type": "code",
      "metadata": {
        "id": "yeuq66_IAWub",
        "colab_type": "code",
        "colab": {}
      },
      "source": [
        "from keras.utils import np_utils\n",
        "dummy_y = np_utils.to_categorical(Y)"
      ],
      "execution_count": 0,
      "outputs": []
    },
    {
      "cell_type": "code",
      "metadata": {
        "id": "0dM-zE0-AYI5",
        "colab_type": "code",
        "colab": {}
      },
      "source": [
        "from sklearn.model_selection import train_test_split\n",
        "X_train, X_test, y_train, y_test = train_test_split(X,Y,test_size=0.25)"
      ],
      "execution_count": 0,
      "outputs": []
    },
    {
      "cell_type": "code",
      "metadata": {
        "id": "QRRMwZY5AZ3i",
        "colab_type": "code",
        "colab": {}
      },
      "source": [
        "from sklearn.preprocessing import StandardScaler\n",
        "sc = StandardScaler()\n",
        "X_train = sc.fit_transform(X_train)\n",
        "X_test = sc.transform(X_test)"
      ],
      "execution_count": 0,
      "outputs": []
    },
    {
      "cell_type": "code",
      "metadata": {
        "id": "-c3mtLJbAbQS",
        "colab_type": "code",
        "colab": {}
      },
      "source": [
        "#Artificial Neural Networks\n",
        "import keras\n",
        "from keras.models import Sequential\n",
        "from keras.layers import Dense\n",
        "\n",
        "def keras_model():\n",
        "    classifier = Sequential()\n",
        "    classifier.add(Dense(51,kernel_initializer='uniform', activation='relu', input_dim=93))\n",
        "    classifier.add(Dense(9,kernel_initializer='uniform', activation='softmax'))\n",
        "    classifier.compile(loss='categorical_crossentropy', optimizer='adam', metrics=['accuracy'])\n",
        "    return classifier\n",
        "\n",
        "classifier = keras_model()\n",
        "print(classifier.summary())\n",
        "\n",
        "classifier.fit(X_train, y_train, epochs=50, batch_size=500)\n",
        "y_pred= classifier.predict(X_test)\n",
        "\n",
        "from keras.wrappers.scikit_learn import KerasClassifier\n",
        "estimator = KerasClassifier(build_fn=keras_model, epochs=100, batch_size=500)\n",
        "\n",
        "from sklearn.model_selection import cross_val_score\n",
        "results = cross_val_score(estimator, X, dummy_y, cv=10)\n",
        "\n",
        "print(\"Baseline: %.2f%% (%.2f%%)\" % (results.mean()*100, results.std()*100))"
      ],
      "execution_count": 0,
      "outputs": []
    },
    {
      "cell_type": "code",
      "metadata": {
        "id": "0x6z_uvsAdzR",
        "colab_type": "code",
        "colab": {}
      },
      "source": [
        "#Support Vector Machines\n",
        "from sklearn.svm import SVC\n",
        "from sklearn.metrics import accuracy_score,confusion_matrix\n",
        "\n",
        "classifierSVM = SVC(kernel=\"rbf\", gamma=\"auto\")\n",
        "classifierSVM.fit(X_train,y_train)\n",
        "y_predictSVM = classifierSVM.predict(X_test)\n",
        "\n",
        "cmSVM =confusion_matrix(y_test,y_predictSVM)\n",
        "accuracy_score(y_test,y_predictSVM)\n",
        "\n",
        "accuraciesSVM = cross_val_score(estimator= classifierSVM,X=X_train,y=Y_train,cv=10)\n",
        "accuraciesSVM.mean()"
      ],
      "execution_count": 0,
      "outputs": []
    },
    {
      "cell_type": "code",
      "metadata": {
        "id": "N_xvOveCAgDx",
        "colab_type": "code",
        "colab": {}
      },
      "source": [
        "#K-Nearest Neighbors\n",
        "from sklearn.neighbors import KNeighborsClassifier \n",
        "\n",
        "classifierKNN = KNeighborsClassifier(n_neighbors=17, metric=\"minkowski\", p=2)\n",
        "classifierKNN.fit(X_train,y_train)\n",
        "y_predictKNN = classifierKNN.predict(X_test)\n",
        "\n",
        "cmKNN =confusion_matrix(y_test,y_predictKNN)\n",
        "accuracy_score(y_test,y_predictKNN)"
      ],
      "execution_count": 0,
      "outputs": []
    },
    {
      "cell_type": "code",
      "metadata": {
        "id": "B3ZT0gyBAiVa",
        "colab_type": "code",
        "colab": {}
      },
      "source": [
        "#MLPClassifier\n",
        "from sklearn.neural_network import MLPClassifier\n",
        "\n",
        "classifier = MLPClassifier(solver= 'lbfgs', hidden_layer_sizes= (30, 10), alpha= 1e-5)\n",
        "classifier.fit(X_train,y_train)\n",
        "y_pred= classifier.predict(X_test)\n",
        "\n",
        "\n",
        "cmSVM =confusion_matrix(y_test,y_pred)\n",
        "accuracy_score(y_test,y_pred)"
      ],
      "execution_count": 0,
      "outputs": []
    },
    {
      "cell_type": "code",
      "metadata": {
        "id": "vDGKTTfXAkDQ",
        "colab_type": "code",
        "colab": {}
      },
      "source": [
        "#Random Forest Classifier\n",
        "from sklearn.ensemble import RandomForestClassifier\n",
        "\n",
        "classifierRF = RandomForestClassifier(n_estimators=100,max_depth=2)\n",
        "classifierRF.fit(X_train,Y_train)\n",
        "\n",
        "Y_predRFC = classifierRF.predict(X_test)\n",
        "cmClassifierRF = confusion_matrix(Y_test,Y_predRFC)\n",
        "accuracy_score(Y_test,Y_predRFC)"
      ],
      "execution_count": 0,
      "outputs": []
    },
    {
      "cell_type": "code",
      "metadata": {
        "id": "_fIHuOYlA9AB",
        "colab_type": "code",
        "colab": {}
      },
      "source": [
        "#XGBoost\n",
        "from xgboost import XGBClassifier\n",
        "\n",
        "classifierXGB = XGBClassifier(max_depth=3, n_estimators=1000,learning_rate=0.01,subsample=0.8,colsample_bytree=1, gamma=1)\n",
        "classifierXGB.fit(X_train,Y_train)\n",
        "\n",
        "Y_predict = classifierXGB.predict(X_test)\n",
        "cmXGB =confusion_matrix(Y_test,Y_predict)\n",
        "accuracy_score(Y_test,Y_predict)"
      ],
      "execution_count": 0,
      "outputs": []
    }
  ]
}